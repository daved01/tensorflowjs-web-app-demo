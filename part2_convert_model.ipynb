{
 "cells": [
  {
   "cell_type": "markdown",
   "metadata": {},
   "source": [
    "# Part 2 - Convert model"
   ]
  },
  {
   "cell_type": "code",
   "execution_count": null,
   "metadata": {},
   "outputs": [],
   "source": [
    "!pip install tensorflowjs"
   ]
  },
  {
   "cell_type": "code",
   "execution_count": null,
   "metadata": {},
   "outputs": [],
   "source": [
    "# Important: Use the format tf_saved_model\n",
    "!tensorflowjs_converter --input_format=tf_saved_model ./models/fullyConvolutionalModel ./models/fullyConvolutionalModelTfjs"
   ]
  }
 ],
 "metadata": {
  "interpreter": {
   "hash": "f4d3c111483dd5603fb42ba1621f2e752610733d081e2d1a97416f5fd97508d5"
  },
  "kernelspec": {
   "display_name": "Python 3.9.6 64-bit ('tfjs': conda)",
   "language": "python",
   "name": "python3"
  },
  "language_info": {
   "codemirror_mode": {
    "name": "ipython",
    "version": 3
   },
   "file_extension": ".py",
   "mimetype": "text/x-python",
   "name": "python",
   "nbconvert_exporter": "python",
   "pygments_lexer": "ipython3",
   "version": "3.9.6"
  },
  "orig_nbformat": 4
 },
 "nbformat": 4,
 "nbformat_minor": 2
}
